{
 "cells": [
  {
   "cell_type": "code",
   "execution_count": 1,
   "metadata": {},
   "outputs": [],
   "source": [
    "# Support Vector Machine (SVM)\n",
    "\n",
    "# Importing the libraries\n",
    "import numpy as np\n",
    "import matplotlib.pyplot as plt\n",
    "import pandas as pd"
   ]
  },
  {
   "cell_type": "code",
   "execution_count": 2,
   "metadata": {},
   "outputs": [],
   "source": [
    "# Importing the dataset\n",
    "dataset = pd.read_csv('final_dataset.csv')\n",
    "X = dataset.iloc[:, 2:8].values\n",
    "y = dataset.iloc[:, 8].values"
   ]
  },
  {
   "cell_type": "code",
   "execution_count": 3,
   "metadata": {
    "scrolled": true
   },
   "outputs": [
    {
     "data": {
      "text/html": [
       "<div>\n",
       "<style scoped>\n",
       "    .dataframe tbody tr th:only-of-type {\n",
       "        vertical-align: middle;\n",
       "    }\n",
       "\n",
       "    .dataframe tbody tr th {\n",
       "        vertical-align: top;\n",
       "    }\n",
       "\n",
       "    .dataframe thead th {\n",
       "        text-align: right;\n",
       "    }\n",
       "</style>\n",
       "<table border=\"1\" class=\"dataframe\">\n",
       "  <thead>\n",
       "    <tr style=\"text-align: right;\">\n",
       "      <th></th>\n",
       "      <th>140.84770028312096</th>\n",
       "      <th>38.914299394660276</th>\n",
       "      <th>81.32</th>\n",
       "      <th>55.19</th>\n",
       "      <th>7.64</th>\n",
       "      <th>2.6925886</th>\n",
       "      <th>1</th>\n",
       "      <th>4</th>\n",
       "      <th>1.1</th>\n",
       "    </tr>\n",
       "  </thead>\n",
       "  <tbody>\n",
       "    <tr>\n",
       "      <th>0</th>\n",
       "      <td>140.844412</td>\n",
       "      <td>38.912714</td>\n",
       "      <td>81.32</td>\n",
       "      <td>55.19</td>\n",
       "      <td>7.64</td>\n",
       "      <td>2.692589e+00</td>\n",
       "      <td>1</td>\n",
       "      <td>4</td>\n",
       "      <td>1</td>\n",
       "    </tr>\n",
       "    <tr>\n",
       "      <th>1</th>\n",
       "      <td>140.851338</td>\n",
       "      <td>38.912466</td>\n",
       "      <td>81.32</td>\n",
       "      <td>55.19</td>\n",
       "      <td>7.64</td>\n",
       "      <td>2.692589e+00</td>\n",
       "      <td>1</td>\n",
       "      <td>4</td>\n",
       "      <td>1</td>\n",
       "    </tr>\n",
       "    <tr>\n",
       "      <th>2</th>\n",
       "      <td>140.851296</td>\n",
       "      <td>38.898872</td>\n",
       "      <td>58.88</td>\n",
       "      <td>34.62</td>\n",
       "      <td>7.03</td>\n",
       "      <td>2.692589e+00</td>\n",
       "      <td>1</td>\n",
       "      <td>5</td>\n",
       "      <td>1</td>\n",
       "    </tr>\n",
       "    <tr>\n",
       "      <th>3</th>\n",
       "      <td>140.861927</td>\n",
       "      <td>38.906827</td>\n",
       "      <td>73.66</td>\n",
       "      <td>48.76</td>\n",
       "      <td>7.52</td>\n",
       "      <td>2.692589e+00</td>\n",
       "      <td>1</td>\n",
       "      <td>4</td>\n",
       "      <td>1</td>\n",
       "    </tr>\n",
       "    <tr>\n",
       "      <th>4</th>\n",
       "      <td>140.841398</td>\n",
       "      <td>38.890289</td>\n",
       "      <td>43.78</td>\n",
       "      <td>28.42</td>\n",
       "      <td>6.83</td>\n",
       "      <td>2.692589e+00</td>\n",
       "      <td>1</td>\n",
       "      <td>5</td>\n",
       "      <td>1</td>\n",
       "    </tr>\n",
       "    <tr>\n",
       "      <th>...</th>\n",
       "      <td>...</td>\n",
       "      <td>...</td>\n",
       "      <td>...</td>\n",
       "      <td>...</td>\n",
       "      <td>...</td>\n",
       "      <td>...</td>\n",
       "      <td>...</td>\n",
       "      <td>...</td>\n",
       "      <td>...</td>\n",
       "    </tr>\n",
       "    <tr>\n",
       "      <th>349482</th>\n",
       "      <td>142.050235</td>\n",
       "      <td>39.951233</td>\n",
       "      <td>32.97</td>\n",
       "      <td>31.25</td>\n",
       "      <td>7.16</td>\n",
       "      <td>-3.402824e+38</td>\n",
       "      <td>9</td>\n",
       "      <td>0</td>\n",
       "      <td>0</td>\n",
       "    </tr>\n",
       "    <tr>\n",
       "      <th>349483</th>\n",
       "      <td>142.051676</td>\n",
       "      <td>39.960073</td>\n",
       "      <td>32.91</td>\n",
       "      <td>31.19</td>\n",
       "      <td>7.16</td>\n",
       "      <td>-3.402824e+38</td>\n",
       "      <td>9</td>\n",
       "      <td>0</td>\n",
       "      <td>0</td>\n",
       "    </tr>\n",
       "    <tr>\n",
       "      <th>349484</th>\n",
       "      <td>142.053117</td>\n",
       "      <td>39.968913</td>\n",
       "      <td>32.83</td>\n",
       "      <td>31.12</td>\n",
       "      <td>7.15</td>\n",
       "      <td>-3.402824e+38</td>\n",
       "      <td>9</td>\n",
       "      <td>0</td>\n",
       "      <td>0</td>\n",
       "    </tr>\n",
       "    <tr>\n",
       "      <th>349485</th>\n",
       "      <td>142.053838</td>\n",
       "      <td>39.973332</td>\n",
       "      <td>32.75</td>\n",
       "      <td>31.05</td>\n",
       "      <td>7.15</td>\n",
       "      <td>-3.402824e+38</td>\n",
       "      <td>9</td>\n",
       "      <td>0</td>\n",
       "      <td>0</td>\n",
       "    </tr>\n",
       "    <tr>\n",
       "      <th>349486</th>\n",
       "      <td>142.054559</td>\n",
       "      <td>39.977752</td>\n",
       "      <td>32.75</td>\n",
       "      <td>31.05</td>\n",
       "      <td>7.15</td>\n",
       "      <td>-3.402824e+38</td>\n",
       "      <td>9</td>\n",
       "      <td>0</td>\n",
       "      <td>0</td>\n",
       "    </tr>\n",
       "  </tbody>\n",
       "</table>\n",
       "<p>349487 rows × 9 columns</p>\n",
       "</div>"
      ],
      "text/plain": [
       "        140.84770028312096  38.914299394660276  81.32  55.19  7.64  \\\n",
       "0               140.844412           38.912714  81.32  55.19  7.64   \n",
       "1               140.851338           38.912466  81.32  55.19  7.64   \n",
       "2               140.851296           38.898872  58.88  34.62  7.03   \n",
       "3               140.861927           38.906827  73.66  48.76  7.52   \n",
       "4               140.841398           38.890289  43.78  28.42  6.83   \n",
       "...                    ...                 ...    ...    ...   ...   \n",
       "349482          142.050235           39.951233  32.97  31.25  7.16   \n",
       "349483          142.051676           39.960073  32.91  31.19  7.16   \n",
       "349484          142.053117           39.968913  32.83  31.12  7.15   \n",
       "349485          142.053838           39.973332  32.75  31.05  7.15   \n",
       "349486          142.054559           39.977752  32.75  31.05  7.15   \n",
       "\n",
       "           2.6925886  1  4  1.1  \n",
       "0       2.692589e+00  1  4    1  \n",
       "1       2.692589e+00  1  4    1  \n",
       "2       2.692589e+00  1  5    1  \n",
       "3       2.692589e+00  1  4    1  \n",
       "4       2.692589e+00  1  5    1  \n",
       "...              ... .. ..  ...  \n",
       "349482 -3.402824e+38  9  0    0  \n",
       "349483 -3.402824e+38  9  0    0  \n",
       "349484 -3.402824e+38  9  0    0  \n",
       "349485 -3.402824e+38  9  0    0  \n",
       "349486 -3.402824e+38  9  0    0  \n",
       "\n",
       "[349487 rows x 9 columns]"
      ]
     },
     "execution_count": 3,
     "metadata": {},
     "output_type": "execute_result"
    }
   ],
   "source": [
    "dataset"
   ]
  },
  {
   "cell_type": "code",
   "execution_count": 4,
   "metadata": {},
   "outputs": [
    {
     "data": {
      "text/plain": [
       "array([1, 1, 1, ..., 0, 0, 0], dtype=int64)"
      ]
     },
     "execution_count": 4,
     "metadata": {},
     "output_type": "execute_result"
    }
   ],
   "source": [
    "y"
   ]
  },
  {
   "cell_type": "code",
   "execution_count": null,
   "metadata": {},
   "outputs": [],
   "source": []
  },
  {
   "cell_type": "code",
   "execution_count": 5,
   "metadata": {},
   "outputs": [],
   "source": [
    "# Splitting the dataset into the Training set and Test set\n",
    "from sklearn.model_selection import train_test_split\n",
    "X_train, X_test, y_train, y_test = train_test_split(X, y, test_size = 0.3, random_state = 0)\n"
   ]
  },
  {
   "cell_type": "code",
   "execution_count": 6,
   "metadata": {},
   "outputs": [
    {
     "data": {
      "text/plain": [
       "array([[ 4.9190000e+01,  3.3300000e+01,  7.2200000e+00, -3.4028235e+38,\n",
       "         1.0000000e+00,  0.0000000e+00],\n",
       "       [ 3.0370000e+01,  4.8680000e+01,  7.6200000e+00,  1.5921820e+00,\n",
       "         2.0000000e+00,  1.2000000e+01],\n",
       "       [ 5.0000000e+01,  4.1280000e+01,  7.6700000e+00,  3.2573166e+00,\n",
       "         1.0000000e+00,  1.0000000e+00],\n",
       "       ...,\n",
       "       [ 3.4670000e+01,  3.2800000e+01,  7.2300000e+00, -3.4028235e+38,\n",
       "         9.0000000e+00,  0.0000000e+00],\n",
       "       [ 5.7220000e+01,  3.1420000e+01,  7.1400000e+00,  6.2330437e-01,\n",
       "         1.0000000e+00,  5.0000000e+00],\n",
       "       [ 3.7980000e+01,  1.9750000e+01,  6.4800000e+00,  1.0994775e+00,\n",
       "         1.0000000e+00,  5.0000000e+00]])"
      ]
     },
     "execution_count": 6,
     "metadata": {},
     "output_type": "execute_result"
    }
   ],
   "source": [
    "X_test"
   ]
  },
  {
   "cell_type": "code",
   "execution_count": 7,
   "metadata": {},
   "outputs": [
    {
     "data": {
      "text/plain": [
       "array([[ 3.1150000e+01,  3.7440000e+01,  7.4000000e+00,  4.9636800e-01,\n",
       "         2.0000000e+00,  5.0000000e+00],\n",
       "       [ 3.1100000e+01,  1.8350000e+01,  6.4600000e+00,  4.9997690e-01,\n",
       "         9.0000000e+00,  0.0000000e+00],\n",
       "       [ 1.8100000e+01,  1.5080000e+01,  6.1100000e+00,  1.1797338e+00,\n",
       "         7.0000000e+00,  4.0000000e+00],\n",
       "       ...,\n",
       "       [ 3.6330000e+01,  4.2960000e+01,  7.5800000e+00,  5.9676180e-01,\n",
       "         2.0000000e+00,  5.0000000e+00],\n",
       "       [ 4.3590000e+01,  5.6450000e+01,  8.0200000e+00,  3.1602284e-01,\n",
       "         2.0000000e+00,  5.0000000e+00],\n",
       "       [ 3.3760000e+01,  3.1960000e+01,  7.1900000e+00, -3.4028235e+38,\n",
       "         9.0000000e+00,  0.0000000e+00]])"
      ]
     },
     "execution_count": 7,
     "metadata": {},
     "output_type": "execute_result"
    }
   ],
   "source": [
    "X_train"
   ]
  },
  {
   "cell_type": "code",
   "execution_count": 8,
   "metadata": {},
   "outputs": [
    {
     "data": {
      "text/plain": [
       "array([0, 0, 0, ..., 0, 0, 0], dtype=int64)"
      ]
     },
     "execution_count": 8,
     "metadata": {},
     "output_type": "execute_result"
    }
   ],
   "source": [
    "y_train"
   ]
  },
  {
   "cell_type": "code",
   "execution_count": 9,
   "metadata": {},
   "outputs": [
    {
     "data": {
      "text/plain": [
       "244640"
      ]
     },
     "execution_count": 9,
     "metadata": {},
     "output_type": "execute_result"
    }
   ],
   "source": [
    "len(X_train)"
   ]
  },
  {
   "cell_type": "code",
   "execution_count": 10,
   "metadata": {},
   "outputs": [
    {
     "data": {
      "text/plain": [
       "104847"
      ]
     },
     "execution_count": 10,
     "metadata": {},
     "output_type": "execute_result"
    }
   ],
   "source": [
    "len(X_test)"
   ]
  },
  {
   "cell_type": "code",
   "execution_count": 11,
   "metadata": {},
   "outputs": [],
   "source": [
    "# Fitting SVM to the Training set\n",
    "from sklearn.svm import SVC\n",
    "model=SVC()"
   ]
  },
  {
   "cell_type": "code",
   "execution_count": 13,
   "metadata": {},
   "outputs": [
    {
     "data": {
      "text/plain": [
       "SVC(C=1.0, break_ties=False, cache_size=200, class_weight=None, coef0=0.0,\n",
       "    decision_function_shape='ovr', degree=3, gamma='scale', kernel='rbf',\n",
       "    max_iter=-1, probability=False, random_state=None, shrinking=True,\n",
       "    tol=0.001, verbose=False)"
      ]
     },
     "execution_count": 13,
     "metadata": {},
     "output_type": "execute_result"
    }
   ],
   "source": [
    "model.fit(X_train,y_train)"
   ]
  },
  {
   "cell_type": "code",
   "execution_count": 14,
   "metadata": {},
   "outputs": [
    {
     "data": {
      "text/plain": [
       "0.968859385580894"
      ]
     },
     "execution_count": 14,
     "metadata": {},
     "output_type": "execute_result"
    }
   ],
   "source": [
    "model.score(X_test,y_test)"
   ]
  },
  {
   "cell_type": "code",
   "execution_count": 18,
   "metadata": {},
   "outputs": [],
   "source": [
    "import matplotlib.pyplot as plt"
   ]
  },
  {
   "cell_type": "code",
   "execution_count": 20,
   "metadata": {},
   "outputs": [],
   "source": [
    "# Predicting the Test set results\n",
    "y_pred = model.predict(X_test)"
   ]
  },
  {
   "cell_type": "code",
   "execution_count": 16,
   "metadata": {},
   "outputs": [
    {
     "name": "stdout",
     "output_type": "stream",
     "text": [
      "[[101582      0]\n",
      " [  3265      0]]\n",
      "0.968859385580894\n"
     ]
    }
   ],
   "source": [
    "# Making the Confusion Matrix\n",
    "from sklearn.metrics import confusion_matrix\n",
    "cm = confusion_matrix(y_test, y_pred)\n",
    "print(cm)\n",
    "print((cm[0][0]+cm[1][1])/(cm[0][0]+cm[0][1]+cm[1][0]+cm[1][1]))"
   ]
  },
  {
   "cell_type": "code",
   "execution_count": 17,
   "metadata": {},
   "outputs": [
    {
     "name": "stdout",
     "output_type": "stream",
     "text": [
      "101582\n",
      "3265\n"
     ]
    }
   ],
   "source": [
    "print(cm[0][0])\n",
    "print(cm[1][0])"
   ]
  },
  {
   "cell_type": "code",
   "execution_count": null,
   "metadata": {},
   "outputs": [],
   "source": []
  }
 ],
 "metadata": {
  "kernelspec": {
   "display_name": "Python 3",
   "language": "python",
   "name": "python3"
  },
  "language_info": {
   "codemirror_mode": {
    "name": "ipython",
    "version": 3
   },
   "file_extension": ".py",
   "mimetype": "text/x-python",
   "name": "python",
   "nbconvert_exporter": "python",
   "pygments_lexer": "ipython3",
   "version": "3.7.6"
  }
 },
 "nbformat": 4,
 "nbformat_minor": 2
}
